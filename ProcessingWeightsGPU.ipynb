{
  "nbformat": 4,
  "nbformat_minor": 0,
  "metadata": {
    "colab": {
      "name": "ProcessingWeightsGPU.ipynb",
      "version": "0.3.2",
      "provenance": [],
      "collapsed_sections": []
    },
    "kernelspec": {
      "name": "python3",
      "display_name": "Python 3"
    },
    "accelerator": "GPU"
  },
  "cells": [
    {
      "cell_type": "markdown",
      "metadata": {
        "id": "view-in-github",
        "colab_type": "text"
      },
      "source": [
        "[View in Colaboratory](https://colab.research.google.com/github/kobybibas/FittingRandomDataToResnetCNN/blob/master/ProcessingWeightsGPU.ipynb)"
      ]
    },
    {
      "metadata": {
        "id": "HuEICF0hw_cO",
        "colab_type": "code",
        "colab": {
          "base_uri": "https://localhost:8080/",
          "height": 323
        },
        "outputId": "cdd5c6ca-f9b9-451e-febe-f7bfc781ec4a"
      },
      "cell_type": "code",
      "source": [
        "!pip3 install http://download.pytorch.org/whl/cu80/torch-0.3.0.post4-cp36-cp36m-linux_x86_64.whl \n",
        "!pip3 install torchvision\n",
        "import matplotlib.pyplot as plot\n",
        "import os\n",
        "import math\n",
        "import time\n",
        "import copy\n",
        "import numpy as np\n",
        "import torch\n",
        "import torch.optim\n",
        "import torch.nn as nn\n",
        "import torch.nn.functional as F\n",
        "import torch.backends.cudnn as cudnn\n",
        "import torchvision.datasets as datasets\n",
        "import torchvision.transforms as transforms\n",
        "\n",
        "print(torch.__version__)\n",
        "print(torch.cuda.is_available())"
      ],
      "execution_count": 1,
      "outputs": [
        {
          "output_type": "stream",
          "text": [
            "Collecting torch==0.3.0.post4 from http://download.pytorch.org/whl/cu80/torch-0.3.0.post4-cp36-cp36m-linux_x86_64.whl\n",
            "\u001b[?25l  Downloading http://download.pytorch.org/whl/cu80/torch-0.3.0.post4-cp36-cp36m-linux_x86_64.whl (592.3MB)\n",
            "\u001b[K    92% |█████████████████████████████▋  | 547.8MB 48.6MB/s eta 0:00:01"
          ],
          "name": "stdout"
        },
        {
          "output_type": "stream",
          "text": [
            "\u001b[K    100% |████████████████████████████████| 592.3MB 35.7MB/s \n",
            "\u001b[?25hRequirement already satisfied: pyyaml in /usr/local/lib/python3.6/dist-packages (from torch==0.3.0.post4) (3.12)\n",
            "Requirement already satisfied: numpy in /usr/local/lib/python3.6/dist-packages (from torch==0.3.0.post4) (1.14.3)\n",
            "Installing collected packages: torch\n",
            "  Found existing installation: torch 0.4.0\n",
            "    Uninstalling torch-0.4.0:\n",
            "      Successfully uninstalled torch-0.4.0\n",
            "Successfully installed torch-0.3.0.post4\n",
            "Requirement already satisfied: torchvision in /usr/local/lib/python3.6/dist-packages (0.2.1)\n",
            "Requirement already satisfied: pillow>=4.1.1 in /usr/local/lib/python3.6/dist-packages (from torchvision) (5.1.0)\n",
            "Requirement already satisfied: numpy in /usr/local/lib/python3.6/dist-packages (from torchvision) (1.14.3)\n",
            "Requirement already satisfied: six in /usr/local/lib/python3.6/dist-packages (from torchvision) (1.11.0)\n",
            "Requirement already satisfied: torch in /usr/local/lib/python3.6/dist-packages (from torchvision) (0.3.0.post4)\n",
            "Requirement already satisfied: pyyaml in /usr/local/lib/python3.6/dist-packages (from torch->torchvision) (3.12)\n",
            "0.3.0.post4\n",
            "True\n"
          ],
          "name": "stdout"
        }
      ]
    },
    {
      "metadata": {
        "id": "82RcK6cfxLXA",
        "colab_type": "code",
        "colab": {
          "resources": {
            "http://localhost:8080/nbextensions/google.colab/files.js": {
              "data": "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",
              "ok": true,
              "headers": [
                [
                  "content-type",
                  "application/javascript"
                ]
              ],
              "status": 200,
              "status_text": ""
            }
          },
          "base_uri": "https://localhost:8080/",
          "height": 154
        },
        "outputId": "fa10f05d-3444-4184-f8c4-eb8bc7b479b3"
      },
      "cell_type": "code",
      "source": [
        "!ls\n",
        "from google.colab import files\n",
        "uploaded = files.upload() # then browse, select the files. It's then uploaded"
      ],
      "execution_count": 2,
      "outputs": [
        {
          "output_type": "stream",
          "text": [
            "data\r\n",
            "datalab\r\n",
            "Model_corruptiton_0.0_Acc-tr_99.98 (1).pt\r\n",
            "Model_corruptiton_0.0_Acc-tr_99.98.pt\r\n",
            "Model_corruptiton_1.0_Acc-tr_10.24.pt\r\n",
            "Model_corruptiton_1.0_Acc-tr_99.76 (1).pt\r\n",
            "Model_corruptiton_1.0_Acc-tr_99.76.pt\r\n"
          ],
          "name": "stdout"
        },
        {
          "output_type": "display_data",
          "data": {
            "text/html": [
              "\n",
              "     <input type=\"file\" id=\"files-50058d2a-5efd-4a1c-9b62-77d056553c4b\" name=\"files[]\" multiple disabled />\n",
              "     <output id=\"result-50058d2a-5efd-4a1c-9b62-77d056553c4b\">\n",
              "      Upload widget is only available when the cell has been executed in the\n",
              "      current browser session. Please rerun this cell to enable.\n",
              "      </output>\n",
              "      <script src=\"/nbextensions/google.colab/files.js\"></script> "
            ],
            "text/plain": [
              "<IPython.core.display.HTML object>"
            ]
          },
          "metadata": {
            "tags": []
          }
        }
      ]
    },
    {
      "metadata": {
        "id": "ffY8Geg0w_ck",
        "colab_type": "code",
        "colab": {}
      },
      "cell_type": "code",
      "source": [
        "#Define the network\n",
        "class BasicBlock(nn.Module):\n",
        "    def __init__(self, in_planes, out_planes, stride, dropRate=0.0):\n",
        "        super(BasicBlock, self).__init__()\n",
        "        self.bn1 = nn.BatchNorm2d(in_planes)\n",
        "        self.relu1 = nn.ReLU(inplace=True)\n",
        "        self.conv1 = nn.Conv2d(in_planes, out_planes, kernel_size=3, stride=stride,\n",
        "                                padding=1, bias=False)\n",
        "        self.bn2 = nn.BatchNorm2d(out_planes)\n",
        "        self.relu2 = nn.ReLU(inplace=True)\n",
        "        self.conv2 = nn.Conv2d(out_planes, out_planes, kernel_size=3, stride=1,\n",
        "                                padding=1, bias=False)\n",
        "        self.droprate = dropRate\n",
        "        self.equalInOut = (in_planes == out_planes)\n",
        "        self.convShortcut = (not self.equalInOut) and nn.Conv2d(in_planes, out_planes, kernel_size=1, stride=stride,\n",
        "                                                                padding=0, bias=False) or None\n",
        "\n",
        "    def forward(self, x):\n",
        "        if not self.equalInOut:\n",
        "            x = self.relu1(self.bn1(x))\n",
        "            out = self.conv1(x)\n",
        "        else:\n",
        "            out = self.conv1(self.relu1(self.bn1(x)))\n",
        "\n",
        "        if self.droprate > 0:\n",
        "            out = F.dropout(out, p=self.droprate, training=self.training)\n",
        "        out = self.conv2(self.relu2(self.bn2(out)))\n",
        "        if not self.equalInOut:\n",
        "            return torch.add(self.convShortcut(x), out)\n",
        "        else:\n",
        "            return torch.add(x, out)\n",
        "\n",
        "\n",
        "class NetworkBlock(nn.Module):\n",
        "        def __init__(self, nb_layers, in_planes, out_planes, block, stride, dropRate=0.0):\n",
        "            super(NetworkBlock, self).__init__()\n",
        "            self.layer = self._make_layer(block, in_planes, out_planes, nb_layers, stride, dropRate)\n",
        "\n",
        "        def _make_layer(self, block, in_planes, out_planes, nb_layers, stride, dropRate):\n",
        "            layers = []\n",
        "            for i in range(nb_layers):\n",
        "                layers.append(block(i == 0 and in_planes or out_planes, out_planes, i == 0 and stride or 1, dropRate))\n",
        "            return nn.Sequential(*layers)\n",
        "\n",
        "        def forward(self, x):\n",
        "            return self.layer(x)\n",
        "\n",
        "\n",
        "class WideResNet(nn.Module):\n",
        "    def __init__(self, depth, num_classes, widen_factor=1, drop_rate=0.0, init_scale=1.0):\n",
        "        super(WideResNet, self).__init__()\n",
        "\n",
        "        nChannels = [16, 16 * widen_factor, 32 * widen_factor, 64 * widen_factor]\n",
        "        assert((depth - 4) % 6 == 0)\n",
        "        n = (depth - 4) // 6\n",
        "        block = BasicBlock\n",
        "        # 1st conv before any network block\n",
        "        self.conv1 = nn.Conv2d(3, nChannels[0], kernel_size=3, stride=1,\n",
        "                                padding=1, bias=False)\n",
        "        # 1st block\n",
        "        self.block1 = NetworkBlock(\n",
        "            n, nChannels[0], nChannels[1], block, 1, drop_rate)\n",
        "        # 2nd block\n",
        "        self.block2 = NetworkBlock(n, nChannels[1], nChannels[2], block, 2, drop_rate)\n",
        "        # 3rd block\n",
        "        self.block3 = NetworkBlock(n, nChannels[2], nChannels[3], block, 2, drop_rate)\n",
        "        # global average pooling and classifier\n",
        "        self.bn1 = nn.BatchNorm2d(nChannels[3])\n",
        "        self.relu = nn.ReLU(inplace=True)\n",
        "        self.fc = nn.Linear(nChannels[3], num_classes)\n",
        "        self.nChannels = nChannels[3]\n",
        "\n",
        "        for m in self.modules():\n",
        "            if isinstance(m, nn.Conv2d):\n",
        "                n = m.kernel_size[0] * m.kernel_size[1] * m.out_channels\n",
        "                m.weight.data.normal_(0, init_scale * math.sqrt(2. / n))\n",
        "            elif isinstance(m, nn.BatchNorm2d):\n",
        "                m.weight.data.fill_(1)\n",
        "                m.bias.data.zero_()\n",
        "            elif isinstance(m, nn.Linear):\n",
        "                m.bias.data.zero_()\n",
        "\n",
        "                size = m.weight.size()\n",
        "                fan_out = size[0] # number of rows\n",
        "                fan_in = size[1] # number of columns\n",
        "                variance = math.sqrt(2.0/(fan_in + fan_out))\n",
        "                m.weight.data.normal_(0.0, init_scale * variance)\n",
        "\n",
        "\n",
        "    def forward(self, x):\n",
        "        out = self.forward_repr(x)\n",
        "        return self.fc(out)\n",
        "\n",
        "    def forward_repr(self, x):\n",
        "        out = self.conv1(x)\n",
        "        out = self.block1(out)\n",
        "        out = self.block2(out)\n",
        "        out = self.block3(out)\n",
        "        out = self.relu(self.bn1(out))\n",
        "        out = F.avg_pool2d(out, 8)\n",
        "        out = out.view(-1, self.nChannels)\n",
        "        return out"
      ],
      "execution_count": 0,
      "outputs": []
    },
    {
      "metadata": {
        "id": "O8F8iiZcw_cw",
        "colab_type": "code",
        "colab": {
          "base_uri": "https://localhost:8080/",
          "height": 136
        },
        "outputId": "258cc732-20c5-4c59-89c6-f87cdf18d212"
      },
      "cell_type": "code",
      "source": [
        "# Load weights\n",
        "!ls\n",
        "model_real_labels   = torch.load('Model_corruptiton_0.0_Acc-tr_99.98.pt')\n",
        "model_random_labels = torch.load('Model_corruptiton_1.0_Acc-tr_99.76.pt')"
      ],
      "execution_count": 4,
      "outputs": [
        {
          "output_type": "stream",
          "text": [
            "data\r\n",
            "datalab\r\n",
            "Model_corruptiton_0.0_Acc-tr_99.98 (1).pt\r\n",
            "Model_corruptiton_0.0_Acc-tr_99.98.pt\r\n",
            "Model_corruptiton_1.0_Acc-tr_10.24.pt\r\n",
            "Model_corruptiton_1.0_Acc-tr_99.76 (1).pt\r\n",
            "Model_corruptiton_1.0_Acc-tr_99.76.pt\r\n"
          ],
          "name": "stdout"
        }
      ]
    },
    {
      "metadata": {
        "id": "O2teALSZw_dC",
        "colab_type": "code",
        "colab": {
          "base_uri": "https://localhost:8080/",
          "height": 612
        },
        "outputId": "d3ff686f-49b7-4442-e658-daa36ea753b1"
      },
      "cell_type": "code",
      "source": [
        "import matplotlib.pyplot as plt\n",
        "from pylab import rcParams\n",
        "def extract_model_parameters_to_array(model):\n",
        "    parameters_array = np.array([])\n",
        "    for name, param in model.cpu().named_parameters():\n",
        "        if param.requires_grad:\n",
        "            flattened_param = param.data.numpy().flatten()\n",
        "            parameters_array = np.append(parameters_array, flattened_param)\n",
        "    return parameters_array\n",
        "\n",
        "# Convert from torch to numpy array\n",
        "parameters_real_labels    =  extract_model_parameters_to_array(model_real_labels)\n",
        "parameters_random_labels  =  extract_model_parameters_to_array(model_random_labels) \n",
        "\n",
        "# Round to 4 decim\n",
        "parameters_real_labels   = parameters_real_labels.round(decimals=4)\n",
        "parameters_random_labels = parameters_random_labels.round(decimals=4)\n",
        "\n",
        "\n",
        "# Plot histogram of the weights\n",
        "rcParams['figure.figsize'] = 30, 10\n",
        "bins = np.linspace(-1, 1, 1000)\n",
        "plt.hist(parameters_real_labels, bins, alpha=0.5, label='Real labels')\n",
        "plt.hist(parameters_random_labels, bins, alpha=0.5, label='Random Labels')\n",
        "plt.legend(loc='upper right')\n",
        "plt.show()\n",
        "\n",
        "#plt.subplot(3,1,1)\n",
        "#plt.hist(parameters_real_labels, bins='auto')\n",
        "#plt.title(\"Histogram- Real labels\")\n",
        "#axes = plt.gca()\n",
        "#axes.set_xlim([-1,1])\n",
        "#plt.subplot(3,1,2)\n",
        "#plt.hist(parameters_gaussain_init, bins='auto')\n",
        "#plt.title(\"Histogram- Random Gaussian Initialization\")\n",
        "#axes = plt.gca()\n",
        "#axes.set_xlim([-1,1])\n",
        "#plt.subplot(3,1,3)\n",
        "#plt.hist(parameters_random_labels, bins='auto')\n",
        "#plt.title(\"Histogram- Random Labels\")\n",
        "#axes = plt.gca()\n",
        "#axes.set_xlim([-1,1])\n",
        "#plt.show()"
      ],
      "execution_count": 5,
      "outputs": [
        {
          "output_type": "display_data",
          "data": {
            "image/png": "[encoded data removed]",
            "text/plain": [
              "<matplotlib.figure.Figure at 0x7fd7d722d0b8>"
            ]
          },
          "metadata": {
            "tags": []
          }
        }
      ]
    },
    {
      "metadata": {
        "id": "WQbEcH4lw_dK",
        "colab_type": "code",
        "colab": {
          "base_uri": "https://localhost:8080/",
          "height": 51
        },
        "outputId": "9bbbd8d4-bd4f-45d5-f55e-3ecb90c85f98"
      },
      "cell_type": "code",
      "source": [
        "def entropy(X):\n",
        "    probs = [np.mean(X == c) for c in set(X)]\n",
        "    return np.sum(-p * np.log2(p) for p in probs)\n",
        "\n",
        "# Compute the entorpy for each setss of weights\n",
        "start_time = time.time()\n",
        "entropy_real_labels = entropy(parameters_real_labels)\n",
        "print('Entropy real labels = %f, time=%f [sec]' % (entropy_real_labels, time.time() - start_time ))\n",
        "entropy_random_labels = entropy(parameters_random_labels)\n",
        "print('Entropy random labels = %f, time=%f [sec]' % (entropy_random_labels, time.time() - start_time ))"
      ],
      "execution_count": 6,
      "outputs": [
        {
          "output_type": "stream",
          "text": [
            "Entropy real labels = 12.026414, time=6.057739 [sec]\n",
            "Entropy random labels = 12.943937, time=16.146453 [sec]\n"
          ],
          "name": "stdout"
        }
      ]
    },
    {
      "metadata": {
        "id": "n-yNlt9vw_dY",
        "colab_type": "text"
      },
      "cell_type": "markdown",
      "source": [
        "# Evaluate training acuracy"
      ]
    },
    {
      "metadata": {
        "id": "6Pcr5liOw_da",
        "colab_type": "code",
        "colab": {}
      },
      "cell_type": "code",
      "source": [
        "# Define general functions\n",
        "\n",
        "class CIFAR10RandomLabels(datasets.CIFAR10):\n",
        "    \"\"\"CIFAR10 dataset, with support for randomly corrupt labels.\n",
        "\n",
        "    Params\n",
        "    ------\n",
        "    corrupt_prob: float\n",
        "        Default 0.0. The probability of a label being replaced with\n",
        "        random label.\n",
        "    num_classes: int\n",
        "        Default 10. The number of classes in the dataset.\n",
        "    \"\"\"\n",
        "    def __init__(self, corrupt_prob=0.0, num_classes=10, **kwargs):\n",
        "        super(CIFAR10RandomLabels, self).__init__(**kwargs)\n",
        "        self.n_classes = num_classes\n",
        "        if corrupt_prob > 0:\n",
        "            self.corrupt_labels(corrupt_prob)\n",
        "\n",
        "    def corrupt_labels(self, corrupt_prob):\n",
        "        labels = np.array(self.train_labels if self.train else self.test_labels)\n",
        "        np.random.seed(12345)\n",
        "        mask = np.random.rand(len(labels)) <= corrupt_prob\n",
        "        rnd_labels = np.random.choice(self.n_classes, mask.sum())\n",
        "        labels[mask] = rnd_labels\n",
        "        # we need to explicitly cast the labels from npy.int64 to\n",
        "        # builtin int type, otherwise pytorch will fail...\n",
        "        labels = [int(x) for x in labels]\n",
        "\n",
        "        if self.train:\n",
        "            self.train_labels = labels\n",
        "        else:\n",
        "            self.test_labels = labels\n",
        "\n",
        "            \n",
        "def get_data_loaders(args, shuffle_train=True):\n",
        "\n",
        "    # Normalization for CIFAR10\n",
        "    normalize = transforms.Normalize(mean=[x/255.0 for x in [125.3, 123.0, 113.9]],\n",
        "                                     std=[x / 255.0 for x in [63.0, 62.1, 66.7]])\n",
        "\n",
        "    if args['data_augmentation']==True:\n",
        "        transform_train = transforms.Compose([\n",
        "          transforms.RandomCrop(32, padding=4),\n",
        "          transforms.RandomHorizontalFlip(),\n",
        "          transforms.ToTensor(),\n",
        "          normalize,\n",
        "          ])\n",
        "    else:\n",
        "        transform_train = transforms.Compose([\n",
        "          transforms.ToTensor(),\n",
        "          normalize,\n",
        "          ])\n",
        "\n",
        "    transform_test = transforms.Compose([\n",
        "        transforms.ToTensor(),\n",
        "        normalize\n",
        "        ])\n",
        "\n",
        "    kwargs = {'num_workers': 1, 'pin_memory': True}\n",
        "    train_loader = torch.utils.data.DataLoader(\n",
        "        CIFAR10RandomLabels(root='./data', train=True, download=True,\n",
        "                            transform=transform_train, num_classes=args['num_classes'],\n",
        "                            corrupt_prob=args['label_corrupt_prob']),\n",
        "        batch_size=args['batch_size'], shuffle=shuffle_train, **kwargs)\n",
        "    val_loader = torch.utils.data.DataLoader(\n",
        "        CIFAR10RandomLabels(root='./data', train=False,\n",
        "                            transform=transform_test, num_classes=args['num_classes'],\n",
        "                            corrupt_prob=args['label_corrupt_prob']),\n",
        "        batch_size=args['batch_size'], shuffle=False, **kwargs)\n",
        "    \n",
        "    # Labels of CIFAR10 dataset\n",
        "    label_translation = ['airplane', 'automobile', 'bird', 'cat', 'deer', 'dog', 'frog',\n",
        "                         'horse', 'ship', 'truck']\n",
        "\n",
        "    return train_loader, val_loader, label_translation"
      ],
      "execution_count": 0,
      "outputs": []
    },
    {
      "metadata": {
        "id": "fN-aHeYxw_di",
        "colab_type": "code",
        "colab": {}
      },
      "cell_type": "code",
      "source": [
        "# Define general functions for training\n",
        "def validate_epoch(val_loader, model, criterion, epoch, args):\n",
        "    \"\"\"Perform validation on the validation set\"\"\"\n",
        "    batch_time = AverageMeter()\n",
        "    losses = AverageMeter()\n",
        "    top1 = AverageMeter()\n",
        "\n",
        "    # switch to evaluate mode\n",
        "    model.eval()\n",
        "\n",
        "    for i, (input, target) in enumerate(val_loader):\n",
        "        target = target.cuda(async=True)\n",
        "        input = input.cuda()\n",
        "        input_var = torch.autograd.Variable(input, volatile=True)\n",
        "        target_var = torch.autograd.Variable(target, volatile=True)\n",
        "\n",
        "        # compute output\n",
        "        output = model(input_var)\n",
        "        loss = criterion(output, target_var)\n",
        "\n",
        "        # measure accuracy and record loss\n",
        "        prec1 = accuracy(output.data, target, topk=(1,))[0]\n",
        "        losses.update(loss.data[0], input.size(0))\n",
        "        top1.update(prec1[0], input.size(0))\n",
        "\n",
        "    return losses.avg, top1.avg\n",
        "\n",
        "\n",
        "class AverageMeter(object):\n",
        "    \"\"\"Computes and stores the average and current value\"\"\"\n",
        "    def __init__(self):\n",
        "        self.reset()\n",
        "\n",
        "    def reset(self):\n",
        "        self.val = 0\n",
        "        self.avg = 0\n",
        "        self.sum = 0\n",
        "        self.count = 0\n",
        "\n",
        "    def update(self, val, n=1):\n",
        "        self.val = val\n",
        "        self.sum += val * n\n",
        "        self.count += n\n",
        "        self.avg = self.sum / self.count\n",
        "\n",
        "\n",
        "def accuracy(output, target, topk=(1,)):\n",
        "    \"\"\"Computes the precision@k for the specified values of k\"\"\"\n",
        "    maxk = max(topk)\n",
        "    batch_size = target.size(0)\n",
        "\n",
        "    _, pred = output.topk(maxk, 1, True, True)\n",
        "    pred = pred.t()\n",
        "    correct = pred.eq(target.view(1, -1).expand_as(pred))\n",
        "\n",
        "    res = []\n",
        "    for k in topk:\n",
        "        correct_k = correct[:k].view(-1).float().sum(0)\n",
        "        res.append(correct_k.mul_(100.0 / batch_size))\n",
        "    return res\n",
        "\n",
        "\n",
        "def adding_noise_to_model(model, sigma=1.0):\n",
        "    noisy_model = copy.deepcopy(model)\n",
        "    for param in noisy_model.parameters():\n",
        "        param.data = param.data.add_(np.random.randn()*sigma)\n",
        "    return noisy_model\n"
      ],
      "execution_count": 0,
      "outputs": []
    },
    {
      "metadata": {
        "id": "Lt_4Sbavw_dq",
        "colab_type": "code",
        "colab": {
          "base_uri": "https://localhost:8080/",
          "height": 1785
        },
        "outputId": "ddce164a-8207-4740-a282-eb5bce1463b2"
      },
      "cell_type": "code",
      "source": [
        "# Define hyperparameters\n",
        "args = {}\n",
        "args['num_classes'] = 10 \n",
        "args['data_augmentation'] = False \n",
        "args['label_corrupt_prob'] = 0.0\n",
        "args['batch_size'] = 128\n",
        "\n",
        "\n",
        "# Load model\n",
        "labels_state = [True, False]\n",
        "real_labels = False\n",
        "\n",
        "for real_labels in labels_state:\n",
        "    print('Label state: real_labels=%d' % (real_labels) )\n",
        "    if real_labels == True:\n",
        "        args['label_corrupt_prob'] = 0.0 # replace with 1.0 for totaly random labels\n",
        "        model = model_real_labels\n",
        "    else:\n",
        "        args['label_corrupt_prob'] = 1.0 # replace with 1.0 for totaly random labels\n",
        "        model = model_random_labels\n",
        "\n",
        "    model = torch.nn.DataParallel(model).cuda()\n",
        "    model = model.cuda() \n",
        "\n",
        "    # Load the data\n",
        "    train_loader, val_loader, label_translation = get_data_loaders(args, shuffle_train=True)\n",
        "\n",
        "    # define loss function (criterion) and optimizer\n",
        "    criterion = nn.CrossEntropyLoss().cuda()\n",
        "\n",
        "    # Iterate on ephoces\n",
        "    sigma_list = list(np.linspace(0.0001, 0.02, num=50))\n",
        "    #sigma_list = [0.0001, 0.0001, 0.0005, 0.001, 0.005, 0.01, 0.05, 0.1, 0.5, 1]\n",
        "    train_accuracy_list = []\n",
        "    for idx, sigma in enumerate(sigma_list):\n",
        "        model_with_noise = adding_noise_to_model(model, sigma)\n",
        "\n",
        "        epoch_time_start = time.time()\n",
        "        tr_loss, tr_prec1 = validate_epoch(train_loader, model_with_noise, criterion, epoch, args)\n",
        "        epoch_time = time.time() - epoch_time_start\n",
        "\n",
        "        train_accuracy_list.append(tr_prec1)\n",
        "\n",
        "        print('%d/%d: Acc-tr: %6.2f, L-tr: %6.4f, Sigma=%f Time=%10.4f'%(idx, len(sigma_list), tr_prec1, tr_loss, sigma, epoch_time))    \n",
        "\n",
        "    if real_labels == True:\n",
        "        train_accuracy_list_real_label = train_accuracy_list\n",
        "    else:\n",
        "        train_accuracy_list_random_label = train_accuracy_list"
      ],
      "execution_count": 57,
      "outputs": [
        {
          "output_type": "stream",
          "text": [
            "Label state: real_labels=1\n",
            "Files already downloaded and verified\n",
            "0/50: Acc-tr:  99.98, L-tr: 0.0051, Sigma=0.000100 Time=   15.2288\n",
            "1/50: Acc-tr:  99.96, L-tr: 0.0072, Sigma=0.000506 Time=   15.4381\n",
            "2/50: Acc-tr:  99.92, L-tr: 0.0080, Sigma=0.000912 Time=   15.5663\n",
            "3/50: Acc-tr:  99.92, L-tr: 0.0081, Sigma=0.001318 Time=   15.5809\n",
            "4/50: Acc-tr:  99.89, L-tr: 0.0059, Sigma=0.001724 Time=   15.5323\n",
            "5/50: Acc-tr:  98.22, L-tr: 0.0512, Sigma=0.002131 Time=   15.6962\n",
            "6/50: Acc-tr:  98.06, L-tr: 0.0571, Sigma=0.002537 Time=   15.6473\n",
            "7/50: Acc-tr:  99.65, L-tr: 0.0126, Sigma=0.002943 Time=   15.7446\n",
            "8/50: Acc-tr:  89.87, L-tr: 0.3385, Sigma=0.003349 Time=   15.6263\n",
            "9/50: Acc-tr:  96.93, L-tr: 0.0902, Sigma=0.003755 Time=   15.6783\n",
            "10/50: Acc-tr:  97.38, L-tr: 0.0808, Sigma=0.004161 Time=   15.6114\n",
            "11/50: Acc-tr:  77.15, L-tr: 1.7577, Sigma=0.004567 Time=   15.6742\n",
            "12/50: Acc-tr:  77.21, L-tr: 0.6724, Sigma=0.004973 Time=   15.6716\n",
            "13/50: Acc-tr:  82.06, L-tr: 0.5617, Sigma=0.005380 Time=   15.6036\n",
            "14/50: Acc-tr:  22.84, L-tr: 2.8556, Sigma=0.005786 Time=   15.6747\n",
            "15/50: Acc-tr:  68.50, L-tr: 0.8530, Sigma=0.006192 Time=   15.6652\n",
            "16/50: Acc-tr:  63.96, L-tr: 3.2946, Sigma=0.006598 Time=   15.6072\n",
            "17/50: Acc-tr:  14.14, L-tr: 2.4349, Sigma=0.007004 Time=   15.5517\n",
            "18/50: Acc-tr:  86.60, L-tr: 0.4873, Sigma=0.007410 Time=   15.6029\n",
            "19/50: Acc-tr:  54.37, L-tr: 5.3538, Sigma=0.007816 Time=   15.6908\n",
            "20/50: Acc-tr:  74.02, L-tr: 1.4436, Sigma=0.008222 Time=   15.5758\n",
            "21/50: Acc-tr:  71.22, L-tr: 1.0771, Sigma=0.008629 Time=   15.5314\n",
            "22/50: Acc-tr:  14.33, L-tr: 2.7347, Sigma=0.009035 Time=   15.5930\n",
            "23/50: Acc-tr:  48.80, L-tr: 2.5510, Sigma=0.009441 Time=   15.5564\n",
            "24/50: Acc-tr:  48.58, L-tr: 1.9158, Sigma=0.009847 Time=   15.6677\n",
            "25/50: Acc-tr:  12.38, L-tr: 5.0820, Sigma=0.010253 Time=   15.5996\n",
            "26/50: Acc-tr:  18.23, L-tr: 3.3144, Sigma=0.010659 Time=   15.6910\n",
            "27/50: Acc-tr:  24.00, L-tr: 92.6577, Sigma=0.011065 Time=   15.6034\n",
            "28/50: Acc-tr:  10.00, L-tr: 7.2720, Sigma=0.011471 Time=   15.6350\n",
            "29/50: Acc-tr:  15.41, L-tr: 2.5290, Sigma=0.011878 Time=   15.5636\n",
            "30/50: Acc-tr:  15.70, L-tr: 268.1513, Sigma=0.012284 Time=   15.6979\n",
            "31/50: Acc-tr:  19.01, L-tr: 4.8424, Sigma=0.012690 Time=   15.6643\n",
            "32/50: Acc-tr:  11.51, L-tr: 2.2985, Sigma=0.013096 Time=   15.5519\n",
            "33/50: Acc-tr:  16.22, L-tr: 2.2465, Sigma=0.013502 Time=   15.5738\n",
            "34/50: Acc-tr:  15.68, L-tr: 3.0042, Sigma=0.013908 Time=   15.6090\n",
            "35/50: Acc-tr:  15.29, L-tr: 10.5038, Sigma=0.014314 Time=   15.5700\n",
            "36/50: Acc-tr:  10.84, L-tr: 171.5564, Sigma=0.014720 Time=   15.5957\n",
            "37/50: Acc-tr:  10.00, L-tr: 109.8044, Sigma=0.015127 Time=   15.5849\n",
            "38/50: Acc-tr:  12.17, L-tr: 64.3123, Sigma=0.015533 Time=   15.6181\n",
            "39/50: Acc-tr:  10.00, L-tr: 2.4467, Sigma=0.015939 Time=   15.5320\n",
            "40/50: Acc-tr:  10.10, L-tr: 30.7678, Sigma=0.016345 Time=   15.5538\n",
            "41/50: Acc-tr:  10.00, L-tr: 2.3081, Sigma=0.016751 Time=   15.4206\n",
            "42/50: Acc-tr:  22.00, L-tr: 10.8438, Sigma=0.017157 Time=   15.5063\n",
            "43/50: Acc-tr:  10.55, L-tr: 2.3161, Sigma=0.017563 Time=   15.6187\n",
            "44/50: Acc-tr:  12.25, L-tr: 3.9001, Sigma=0.017969 Time=   15.6037\n",
            "45/50: Acc-tr:  10.00, L-tr: 281.5588, Sigma=0.018376 Time=   15.5738\n",
            "46/50: Acc-tr:  12.34, L-tr: 141.7646, Sigma=0.018782 Time=   15.5295\n",
            "47/50: Acc-tr:  10.00, L-tr: 225.5392, Sigma=0.019188 Time=   15.4732\n",
            "48/50: Acc-tr:  10.00, L-tr: 3.8412, Sigma=0.019594 Time=   15.5469\n",
            "49/50: Acc-tr:  10.86, L-tr: 2.6905, Sigma=0.020000 Time=   15.7356\n",
            "Label state: real_labels=0\n",
            "Files already downloaded and verified\n",
            "0/50: Acc-tr:  99.76, L-tr: 0.0436, Sigma=0.000100 Time=   15.5387\n"
          ],
          "name": "stdout"
        },
        {
          "output_type": "stream",
          "text": [
            "1/50: Acc-tr:  99.70, L-tr: 0.0419, Sigma=0.000506 Time=   15.5489\n",
            "2/50: Acc-tr:  99.39, L-tr: 0.0624, Sigma=0.000912 Time=   15.5735\n",
            "3/50: Acc-tr:  98.36, L-tr: 0.0994, Sigma=0.001318 Time=   15.6940\n",
            "4/50: Acc-tr:  96.34, L-tr: 0.1287, Sigma=0.001724 Time=   15.6578\n",
            "5/50: Acc-tr:  94.94, L-tr: 0.1486, Sigma=0.002131 Time=   15.6189\n",
            "6/50: Acc-tr:  96.91, L-tr: 0.1039, Sigma=0.002537 Time=   15.6899\n",
            "7/50: Acc-tr:  98.68, L-tr: 0.1109, Sigma=0.002943 Time=   15.6369\n",
            "8/50: Acc-tr:  81.15, L-tr: 0.8492, Sigma=0.003349 Time=   15.6547\n",
            "9/50: Acc-tr:  89.15, L-tr: 0.3082, Sigma=0.003755 Time=   15.6221\n",
            "10/50: Acc-tr:  74.72, L-tr: 0.7807, Sigma=0.004161 Time=   15.5968\n",
            "11/50: Acc-tr:  64.34, L-tr: 1.0934, Sigma=0.004567 Time=   15.6223\n",
            "12/50: Acc-tr:  66.81, L-tr: 0.9385, Sigma=0.004973 Time=   15.6358\n",
            "13/50: Acc-tr:  88.33, L-tr: 0.3394, Sigma=0.005380 Time=   15.6657\n",
            "14/50: Acc-tr:  42.84, L-tr: 4.4025, Sigma=0.005786 Time=   15.6722\n",
            "15/50: Acc-tr:  63.75, L-tr: 1.0923, Sigma=0.006192 Time=   15.5734\n",
            "16/50: Acc-tr:  67.32, L-tr: 1.3856, Sigma=0.006598 Time=   15.5923\n",
            "17/50: Acc-tr:  34.77, L-tr: 26.5041, Sigma=0.007004 Time=   15.6275\n",
            "18/50: Acc-tr:  22.49, L-tr: 2.1308, Sigma=0.007410 Time=   15.5723\n",
            "19/50: Acc-tr:  21.75, L-tr: 3.1668, Sigma=0.007816 Time=   15.5704\n",
            "20/50: Acc-tr:  66.08, L-tr: 1.0344, Sigma=0.008222 Time=   15.5412\n",
            "21/50: Acc-tr:  19.65, L-tr: 4.0430, Sigma=0.008629 Time=   15.5240\n",
            "22/50: Acc-tr:  59.29, L-tr: 1.3800, Sigma=0.009035 Time=   15.5485\n",
            "23/50: Acc-tr:  18.97, L-tr: 35.6622, Sigma=0.009441 Time=   15.5695\n",
            "24/50: Acc-tr:  25.18, L-tr: 13.1773, Sigma=0.009847 Time=   15.6111\n",
            "25/50: Acc-tr:  14.36, L-tr: 50.6327, Sigma=0.010253 Time=   15.6003\n",
            "26/50: Acc-tr:  19.44, L-tr: 2.2153, Sigma=0.010659 Time=   15.4585\n",
            "27/50: Acc-tr:  54.51, L-tr: 2.4586, Sigma=0.011065 Time=   15.5340\n",
            "28/50: Acc-tr:  50.95, L-tr: 2.5513, Sigma=0.011471 Time=   15.5282\n",
            "29/50: Acc-tr:  11.40, L-tr: 53.0208, Sigma=0.011878 Time=   15.6209\n",
            "30/50: Acc-tr:  10.21, L-tr: 66.0075, Sigma=0.012284 Time=   15.5938\n",
            "31/50: Acc-tr:  18.52, L-tr: 5.7060, Sigma=0.012690 Time=   15.6189\n",
            "32/50: Acc-tr:  47.37, L-tr: 5.4718, Sigma=0.013096 Time=   15.5670\n",
            "33/50: Acc-tr:  31.94, L-tr: 2.8265, Sigma=0.013502 Time=   15.5896\n",
            "34/50: Acc-tr:  50.72, L-tr: 2.5057, Sigma=0.013908 Time=   15.5891\n",
            "35/50: Acc-tr:  39.33, L-tr: 1.7262, Sigma=0.014314 Time=   15.6043\n",
            "36/50: Acc-tr:  15.41, L-tr: 67.0812, Sigma=0.014720 Time=   15.5883\n",
            "37/50: Acc-tr:  11.78, L-tr: 2.5315, Sigma=0.015127 Time=   15.5945\n",
            "38/50: Acc-tr:  12.64, L-tr: 6.9082, Sigma=0.015533 Time=   15.6305\n",
            "39/50: Acc-tr:  10.25, L-tr: 2.4161, Sigma=0.015939 Time=   15.6130\n",
            "40/50: Acc-tr:  20.00, L-tr: 2.1603, Sigma=0.016345 Time=   15.5745\n",
            "41/50: Acc-tr:  10.45, L-tr: 123.7778, Sigma=0.016751 Time=   15.6604\n",
            "42/50: Acc-tr:  10.06, L-tr: 2.3560, Sigma=0.017157 Time=   15.6025\n",
            "43/50: Acc-tr:  25.82, L-tr: 10.0180, Sigma=0.017563 Time=   15.5928\n",
            "44/50: Acc-tr:  12.17, L-tr: 122.6932, Sigma=0.017969 Time=   15.6018\n",
            "45/50: Acc-tr:  25.52, L-tr: 10.8662, Sigma=0.018376 Time=   15.5816\n",
            "46/50: Acc-tr:  32.08, L-tr: 2.7659, Sigma=0.018782 Time=   15.4948\n",
            "47/50: Acc-tr:  10.13, L-tr: 2.5441, Sigma=0.019188 Time=   15.4649\n",
            "48/50: Acc-tr:  25.83, L-tr: 4.7675, Sigma=0.019594 Time=   15.6177\n",
            "49/50: Acc-tr:  13.00, L-tr: 2.9832, Sigma=0.020000 Time=   15.5893\n"
          ],
          "name": "stdout"
        }
      ]
    },
    {
      "metadata": {
        "id": "UMeU7My-65gy",
        "colab_type": "code",
        "colab": {
          "base_uri": "https://localhost:8080/",
          "height": 334
        },
        "outputId": "4e2af8f1-b8de-418e-82b0-d35254b392a9"
      },
      "cell_type": "code",
      "source": [
        "# red dashes, blue squares and green triangles\n",
        "rcParams['figure.figsize'] = 15, 5\n",
        "plt.plot(sigma_list, train_accuracy_list_real_label, 'ro', label='Real labels')\n",
        "plt.plot(sigma_list, train_accuracy_list_random_label, 'bs', label='Random Labels')\n",
        "plt.xlabel('Gaussin Noise - Sigma')\n",
        "plt.ylabel('Accuracy [%]')\n",
        "plt.legend(loc='upper right')\n",
        "plt.show()"
      ],
      "execution_count": 59,
      "outputs": [
        {
          "output_type": "display_data",
          "data": {
            "image/png": "[encoded data removed]",
            "text/plain": [
              "<matplotlib.figure.Figure at 0x7fd76d37ada0>"
            ]
          },
          "metadata": {
            "tags": []
          }
        }
      ]
    },
    {
      "metadata": {
        "id": "H52LuHk-w_d2",
        "colab_type": "code",
        "colab": {}
      },
      "cell_type": "code",
      "source": [
        ""
      ],
      "execution_count": 0,
      "outputs": []
    },
    {
      "metadata": {
        "id": "nBIfLedqw_d6",
        "colab_type": "code",
        "colab": {}
      },
      "cell_type": "code",
      "source": [
        ""
      ],
      "execution_count": 0,
      "outputs": []
    },
    {
      "metadata": {
        "id": "nvNFL0qlw_eA",
        "colab_type": "code",
        "colab": {}
      },
      "cell_type": "code",
      "source": [
        ""
      ],
      "execution_count": 0,
      "outputs": []
    }
  ]
}